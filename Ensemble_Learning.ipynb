{
  "nbformat": 4,
  "nbformat_minor": 0,
  "metadata": {
    "colab": {
      "name": "Ensemble Learning.ipynb",
      "provenance": [],
      "collapsed_sections": []
    },
    "kernelspec": {
      "name": "python3",
      "display_name": "Python 3"
    },
    "language_info": {
      "name": "python"
    }
  },
  "cells": [
    {
      "cell_type": "markdown",
      "metadata": {
        "id": "NZosIvWvZi5Z"
      },
      "source": [
        "The Infant Health Development Program (IHDP) dataset was collected to investigate the e\u000bect of high-quality childcare and home visits on the future cognitive test score of low-birth-weight, premature infants.                                               "
      ]
    },
    {
      "cell_type": "markdown",
      "metadata": {
        "id": "hJxeKN9YZyZr"
      },
      "source": [
        "#Section 1: Preprocessing data.                                                  \n",
        "In this section we will be loading CSV file, followed by missing value imputation and removal of outliers"
      ]
    },
    {
      "cell_type": "code",
      "metadata": {
        "id": "KEV3t8xtZxH2"
      },
      "source": [
        "import pandas as pd # library for data analsysis\n",
        "import numpy as np # library to handle data in a vectorized manner\n",
        "import seaborn as sns # for visualization\n",
        "from sklearn.model_selection import GridSearchCV  # for hyperparameters tuning\n",
        "from sklearn.model_selection import cross_val_score # for cross-validation evaluation\n",
        "from sklearn.metrics import mean_squared_error # to calculate the RMSE\n",
        "from joblib import dump # to save a model to disk"
      ],
      "execution_count": null,
      "outputs": []
    },
    {
      "cell_type": "markdown",
      "metadata": {
        "id": "5Yg3OHXgcosC"
      },
      "source": [
        "### Loading dataset"
      ]
    },
    {
      "cell_type": "code",
      "metadata": {
        "id": "gNELfVPSaxtP"
      },
      "source": [
        "data = pd.read_csv('ihdp_npci_repl532.csv')\n",
        "#print(data)\n",
        "#data.head()"
      ],
      "execution_count": null,
      "outputs": []
    },
    {
      "cell_type": "code",
      "metadata": {
        "id": "3Y-X3z7UcnBF"
      },
      "source": [
        "data.shape\n",
        "#data.dtypes"
      ],
      "execution_count": null,
      "outputs": []
    },
    {
      "cell_type": "code",
      "metadata": {
        "id": "gQXWe4jyGsvu"
      },
      "source": [
        "data.isna().sum()\n",
        "# data.nunique()"
      ],
      "execution_count": null,
      "outputs": []
    },
    {
      "cell_type": "markdown",
      "metadata": {
        "id": "b2qxqCWrGOxU"
      },
      "source": [
        "### Remove outliers"
      ]
    },
    {
      "cell_type": "code",
      "metadata": {
        "id": "41xHdmvMbVGf",
        "colab": {
          "base_uri": "https://localhost:8080/",
          "height": 163
        },
        "outputId": "b2ca22dd-b257-40f1-8028-a5f63f5d7fed"
      },
      "source": [
        "data.info"
      ],
      "execution_count": null,
      "outputs": [
        {
          "output_type": "error",
          "ename": "NameError",
          "evalue": "ignored",
          "traceback": [
            "\u001b[0;31m---------------------------------------------------------------------------\u001b[0m",
            "\u001b[0;31mNameError\u001b[0m                                 Traceback (most recent call last)",
            "\u001b[0;32m<ipython-input-1-a1d22515867a>\u001b[0m in \u001b[0;36m<module>\u001b[0;34m()\u001b[0m\n\u001b[0;32m----> 1\u001b[0;31m \u001b[0mdata\u001b[0m\u001b[0;34m.\u001b[0m\u001b[0minfo\u001b[0m\u001b[0;34m\u001b[0m\u001b[0;34m\u001b[0m\u001b[0m\n\u001b[0m",
            "\u001b[0;31mNameError\u001b[0m: name 'data' is not defined"
          ]
        }
      ]
    },
    {
      "cell_type": "code",
      "metadata": {
        "id": "4rbDtPgyc6B0"
      },
      "source": [
        "data.describe()"
      ],
      "execution_count": null,
      "outputs": []
    },
    {
      "cell_type": "code",
      "metadata": {
        "id": "MEu8_lzCeP0s"
      },
      "source": [
        "dt = data[['x1','x2','x3', 'x4', 'x5', 'x6']]\n",
        "#dt.head()"
      ],
      "execution_count": null,
      "outputs": []
    },
    {
      "cell_type": "code",
      "metadata": {
        "id": "91Ggc1FRIb5W"
      },
      "source": [
        "dt.hist()"
      ],
      "execution_count": null,
      "outputs": []
    },
    {
      "cell_type": "markdown",
      "metadata": {
        "id": "0QoXUFPUI3sZ"
      },
      "source": [
        "####We can see extreme values for 'x2' and 'x3' variable. We will plot a box plots for all these variables to locate presence of outliers, if any."
      ]
    },
    {
      "cell_type": "code",
      "metadata": {
        "id": "0CZ1JYauI1xV"
      },
      "source": [
        "dt.boxplot(column=['x2'])"
      ],
      "execution_count": null,
      "outputs": []
    },
    {
      "cell_type": "code",
      "metadata": {
        "id": "zV1aVsRMJaqr"
      },
      "source": [
        "#dt.boxplot(column=['x3'])"
      ],
      "execution_count": null,
      "outputs": []
    },
    {
      "cell_type": "code",
      "metadata": {
        "id": "aHcoWPNoESLC"
      },
      "source": [
        "#dt.boxplot(column=['x1'])"
      ],
      "execution_count": null,
      "outputs": []
    },
    {
      "cell_type": "code",
      "metadata": {
        "id": "K0l26UXAKjsG"
      },
      "source": [
        "dt.boxplot(column=['x4'])"
      ],
      "execution_count": null,
      "outputs": []
    },
    {
      "cell_type": "code",
      "metadata": {
        "id": "PCu1TTX-Km-r"
      },
      "source": [
        "dt.boxplot(column=['x5'])"
      ],
      "execution_count": null,
      "outputs": []
    },
    {
      "cell_type": "code",
      "metadata": {
        "id": "oejFK2nRKqUY"
      },
      "source": [
        "dt.boxplot(column=['x6'])"
      ],
      "execution_count": null,
      "outputs": []
    },
    {
      "cell_type": "markdown",
      "metadata": {
        "id": "mCbdtSirBqWi"
      },
      "source": [
        "#### The wiskers in the boxplot for variables x2, x4, x5 & x6, are present outliers.                                                                       The Inner Quertile Range (IQR) is the distance between the upper and lower quartiles.                                                                    We will use the 1.5 * IQR rule to remove outliers."
      ]
    },
    {
      "cell_type": "code",
      "metadata": {
        "id": "KUWAB_VGBX4x"
      },
      "source": [
        "# Function to compute the lower range and upper range of values to keep (1.5 x IQR)\n",
        "def range_keep(column):\n",
        "    sorted(column)\n",
        "    Q1,Q3 = np.percentile(column , [25,75]) # 25th to 75th percentile (interquartile range)\n",
        "    IQR = Q3 - Q1\n",
        "    lower_range = Q1 - (1.5 * IQR)\n",
        "    upper_range = Q3 + (1.5 * IQR)\n",
        "    return lower_range, upper_range"
      ],
      "execution_count": null,
      "outputs": []
    },
    {
      "cell_type": "code",
      "metadata": {
        "id": "ZbffoRJJBy09"
      },
      "source": [
        "# Compute the lower range and upper range for column 'x2'\n",
        "lower_range, upper_range = range_keep(dt['x2'])\n",
        "print(lower_range, upper_range)\n",
        "\n",
        "# Keep only values that lie between that range\n",
        "data = data.drop(data[(data['x2'] > upper_range) | (data['x2'] < lower_range)].index)\n",
        "\n",
        "data.shape"
      ],
      "execution_count": null,
      "outputs": []
    },
    {
      "cell_type": "code",
      "metadata": {
        "id": "qz92XI1pCn45"
      },
      "source": [
        "# Compute the lower range and upper range for column 'x5'\n",
        "lower_range, upper_range = range_keep(data['x5'])\n",
        "print(lower_range, upper_range)\n",
        "\n",
        "# Keep only values that lie between that range\n",
        "data = data.drop(data[(data['x5'] > upper_range) | (data['x5'] < lower_range)].index)\n",
        "\n",
        "data.shape"
      ],
      "execution_count": null,
      "outputs": []
    },
    {
      "cell_type": "code",
      "metadata": {
        "id": "VDrdsxPNDFxQ"
      },
      "source": [
        "# Compute the lower range and upper range for column 'x4'\n",
        "lower_range, upper_range = range_keep(data['x4'])\n",
        "print(lower_range, upper_range)\n",
        "\n",
        "# Keep only values that lie between that range\n",
        "data = data.drop(data[(data['x4'] > upper_range) | (data['x4'] < lower_range)].index)\n",
        "\n",
        "data.shape"
      ],
      "execution_count": null,
      "outputs": []
    },
    {
      "cell_type": "code",
      "metadata": {
        "id": "PY4X7pjjDOfv"
      },
      "source": [
        "# Compute the lower range and upper range for column 'x6'\n",
        "lower_range, upper_range = range_keep(data['x6'])\n",
        "print(lower_range, upper_range)\n",
        "\n",
        "# Keep only values that lie between that range\n",
        "data = data.drop(data[(data['x6'] > upper_range) | (data['x6'] < lower_range)].index)\n",
        "\n",
        "data.shape"
      ],
      "execution_count": null,
      "outputs": []
    },
    {
      "cell_type": "code",
      "metadata": {
        "id": "0OkYeN7rf6fe"
      },
      "source": [
        "df = data[['x1','x2','x3', 'x4', 'x5', 'x6']]\n",
        "df.head()"
      ],
      "execution_count": null,
      "outputs": []
    },
    {
      "cell_type": "code",
      "metadata": {
        "id": "2gUskxG2D9je"
      },
      "source": [
        "df.hist()"
      ],
      "execution_count": null,
      "outputs": []
    },
    {
      "cell_type": "markdown",
      "metadata": {
        "id": "3ahAXyYzUJMa"
      },
      "source": [
        "#Section 2: Data Modeling :                                                   \n",
        " We are going to try and compare some popular supervise learning models. Since the outcome variable is contiuous, we will pick one of regression methods such as linear regressin, decision tree, random forest or gradient boosting methods.\n"
      ]
    },
    {
      "cell_type": "markdown",
      "metadata": {
        "id": "8KWWw9r6Ty7_"
      },
      "source": [
        "####Prepare the input and target variables. Extract the target variable 'y'"
      ]
    },
    {
      "cell_type": "code",
      "metadata": {
        "colab": {
          "base_uri": "https://localhost:8080/"
        },
        "id": "1mVGi7a8Hmk1",
        "outputId": "d76cbb62-162c-4ac9-cd5a-0c4e88389580"
      },
      "source": [
        "y = data['outcome']\n",
        "y.head()"
      ],
      "execution_count": null,
      "outputs": [
        {
          "output_type": "execute_result",
          "data": {
            "text/plain": [
              "0    3.976909\n",
              "1    6.455608\n",
              "2    5.344970\n",
              "3    7.024344\n",
              "4    6.126817\n",
              "Name: outcome, dtype: float64"
            ]
          },
          "metadata": {
            "tags": []
          },
          "execution_count": 22
        }
      ]
    },
    {
      "cell_type": "markdown",
      "metadata": {
        "id": "fiWrEzHlH_gP"
      },
      "source": [
        "#### Extract the input variable 'X'"
      ]
    },
    {
      "cell_type": "code",
      "metadata": {
        "colab": {
          "base_uri": "https://localhost:8080/"
        },
        "id": "kQsNG6AtIGrM",
        "outputId": "25b94232-f5e3-401a-a904-45e4a5b5d202"
      },
      "source": [
        "X = data.drop(columns={'outcome'})\n",
        "X.head()\n",
        "X.shape"
      ],
      "execution_count": null,
      "outputs": [
        {
          "output_type": "execute_result",
          "data": {
            "text/plain": [
              "(652, 26)"
            ]
          },
          "metadata": {
            "tags": []
          },
          "execution_count": 23
        }
      ]
    },
    {
      "cell_type": "markdown",
      "metadata": {
        "id": "ycDhQTqaIuLz"
      },
      "source": [
        "#### Split training and test tests into 70:30 ratio. 70 % of data will be used for training (and validation), 30 % for test."
      ]
    },
    {
      "cell_type": "code",
      "metadata": {
        "id": "hTzkFWvQOhUv"
      },
      "source": [
        "from sklearn.model_selection import train_test_split\n",
        "X_train, X_test, y_train, y_test = train_test_split(X, y, test_size=0.3, random_state=2)"
      ],
      "execution_count": null,
      "outputs": []
    },
    {
      "cell_type": "markdown",
      "metadata": {
        "id": "Gmj_LEV4vuzY"
      },
      "source": [
        "## 2.1 Linear Regression"
      ]
    },
    {
      "cell_type": "markdown",
      "metadata": {
        "id": "YcoR5iJOPYx1"
      },
      "source": [
        "Scale features (for linear regression)                                        \n",
        "Feature scaling :\n",
        "\n",
        "Range from 0 to 1                                                               \n",
        "'Fit' on training data only                                                     \n",
        "'Transform' on training and test data"
      ]
    },
    {
      "cell_type": "code",
      "metadata": {
        "id": "li8VI3zBPsj5"
      },
      "source": [
        "from sklearn.preprocessing import MinMaxScaler\n",
        "\n",
        "# Scaler for X\n",
        "scaler_x = MinMaxScaler(feature_range=(0,1))\n",
        "X_train_scaled = scaler_x.fit_transform(X_train)\n",
        "X_test_scaled = scaler_x.transform(X_test)"
      ],
      "execution_count": null,
      "outputs": []
    },
    {
      "cell_type": "code",
      "metadata": {
        "colab": {
          "base_uri": "https://localhost:8080/"
        },
        "id": "xTxCY5PVPagL",
        "outputId": "8fcd082e-fc5f-46e0-8391-98acffda08bd"
      },
      "source": [
        "from sklearn.linear_model import LinearRegression\n",
        "\n",
        "lin_reg = LinearRegression()\n",
        "\n",
        "# Model evaluation by cross-validation\n",
        "lin_reg_score = cross_val_score(lin_reg, X_train_scaled, y_train, verbose = 2)\n",
        "\n",
        "# Average Coefficient of determination (R^2) on the validation set\n",
        "print(f'R^2 Validation: {lin_reg_score.mean()}')"
      ],
      "execution_count": null,
      "outputs": [
        {
          "output_type": "stream",
          "text": [
            "[CV]  ................................................................\n",
            "[CV] ................................................. , total=   0.0s\n",
            "[CV]  ................................................................\n",
            "[CV] ................................................. , total=   0.0s\n",
            "[CV]  ................................................................\n",
            "[CV] ................................................. , total=   0.0s\n",
            "[CV]  ................................................................\n",
            "[CV] ................................................. , total=   0.0s\n",
            "[CV]  ................................................................\n",
            "[CV] ................................................. , total=   0.0s\n",
            "R^2 Validation: 0.7342644286951063\n"
          ],
          "name": "stdout"
        },
        {
          "output_type": "stream",
          "text": [
            "[Parallel(n_jobs=1)]: Using backend SequentialBackend with 1 concurrent workers.\n",
            "[Parallel(n_jobs=1)]: Done   1 out of   1 | elapsed:    0.0s remaining:    0.0s\n",
            "[Parallel(n_jobs=1)]: Done   5 out of   5 | elapsed:    0.0s finished\n"
          ],
          "name": "stderr"
        }
      ]
    },
    {
      "cell_type": "code",
      "metadata": {
        "colab": {
          "base_uri": "https://localhost:8080/"
        },
        "id": "CDdmnNp9vvGB",
        "outputId": "86abc83b-3b19-4d01-d4a5-156fc5c7b5c6"
      },
      "source": [
        "# Fit the model to the training set\n",
        "lin_reg.fit(X_train_scaled, y_train)"
      ],
      "execution_count": null,
      "outputs": [
        {
          "output_type": "execute_result",
          "data": {
            "text/plain": [
              "LinearRegression(copy_X=True, fit_intercept=True, n_jobs=None, normalize=False)"
            ]
          },
          "metadata": {
            "tags": []
          },
          "execution_count": 27
        }
      ]
    },
    {
      "cell_type": "code",
      "metadata": {
        "id": "kmrV4I4lVh_r"
      },
      "source": [
        "# Compute predictions from the test set\n",
        "y_pred = lin_reg.predict(X_test_scaled)"
      ],
      "execution_count": null,
      "outputs": []
    },
    {
      "cell_type": "code",
      "metadata": {
        "colab": {
          "base_uri": "https://localhost:8080/"
        },
        "id": "S0Xfvww1Vr4T",
        "outputId": "311b8913-197f-406b-f93e-7cae2d2e4ac6"
      },
      "source": [
        "# Coefficient of determination (R^2) on the test set\n",
        "print(f'R^2 Test: {lin_reg.score(X_test_scaled, y_test)}')"
      ],
      "execution_count": null,
      "outputs": [
        {
          "output_type": "stream",
          "text": [
            "R^2 Test: 0.7630613492042773\n"
          ],
          "name": "stdout"
        }
      ]
    },
    {
      "cell_type": "code",
      "metadata": {
        "colab": {
          "base_uri": "https://localhost:8080/"
        },
        "id": "vwdnO_PWVwM1",
        "outputId": "e7646a2f-fb8b-47d8-c89e-1dbec9ccab16"
      },
      "source": [
        "print(f'RMSE Test: {np.sqrt(mean_squared_error(y_test, y_pred))}')"
      ],
      "execution_count": null,
      "outputs": [
        {
          "output_type": "stream",
          "text": [
            "RMSE Test: 1.1215994621040886\n"
          ],
          "name": "stdout"
        }
      ]
    },
    {
      "cell_type": "code",
      "metadata": {
        "colab": {
          "base_uri": "https://localhost:8080/",
          "height": 367
        },
        "id": "NNzPS_9YV0Qj",
        "outputId": "91076965-8350-4022-b293-41e99c6d33cc"
      },
      "source": [
        "# Visualize the predictions (in blue) against the actual values (in red)\n",
        "ax1 = sns.distplot(y_test, hist=False, color='r', label='actual')\n",
        "sns_plot = sns.distplot(y_pred, hist=False, color='b',label='prediction', ax=ax1)\n",
        "\n",
        "# Save the figure to a file\n",
        "sns_plot.get_figure().savefig(\"lin_reg.png\")"
      ],
      "execution_count": null,
      "outputs": [
        {
          "output_type": "stream",
          "text": [
            "/usr/local/lib/python3.7/dist-packages/seaborn/distributions.py:2557: FutureWarning: `distplot` is a deprecated function and will be removed in a future version. Please adapt your code to use either `displot` (a figure-level function with similar flexibility) or `kdeplot` (an axes-level function for kernel density plots).\n",
            "  warnings.warn(msg, FutureWarning)\n",
            "/usr/local/lib/python3.7/dist-packages/seaborn/distributions.py:2557: FutureWarning: `distplot` is a deprecated function and will be removed in a future version. Please adapt your code to use either `displot` (a figure-level function with similar flexibility) or `kdeplot` (an axes-level function for kernel density plots).\n",
            "  warnings.warn(msg, FutureWarning)\n"
          ],
          "name": "stderr"
        },
        {
          "output_type": "display_data",
          "data": {
            "image/png": "[encoded data removed]",
            "text/plain": [
              "<Figure size 432x288 with 1 Axes>"
            ]
          },
          "metadata": {
            "tags": [],
            "needs_background": "light"
          }
        }
      ]
    },
    {
      "cell_type": "markdown",
      "metadata": {
        "id": "GOKWkTjeWI3X"
      },
      "source": [
        "##2.2 Decision Tree\n"
      ]
    },
    {
      "cell_type": "code",
      "metadata": {
        "id": "9QQh6grcGmvi"
      },
      "source": [
        "from sklearn.tree import DecisionTreeRegressor\n",
        "clf =DecisionTreeRegressor()"
      ],
      "execution_count": null,
      "outputs": []
    },
    {
      "cell_type": "code",
      "metadata": {
        "colab": {
          "base_uri": "https://localhost:8080/"
        },
        "id": "6Lo00BgaGvKj",
        "outputId": "8a168c06-20e6-45c7-c386-afbff0d66b1e"
      },
      "source": [
        "clf.fit(X_train, y_train)"
      ],
      "execution_count": null,
      "outputs": [
        {
          "output_type": "execute_result",
          "data": {
            "text/plain": [
              "DecisionTreeRegressor(ccp_alpha=0.0, criterion='mse', max_depth=None,\n",
              "                      max_features=None, max_leaf_nodes=None,\n",
              "                      min_impurity_decrease=0.0, min_impurity_split=None,\n",
              "                      min_samples_leaf=1, min_samples_split=2,\n",
              "                      min_weight_fraction_leaf=0.0, presort='deprecated',\n",
              "                      random_state=None, splitter='best')"
            ]
          },
          "metadata": {
            "tags": []
          },
          "execution_count": 34
        }
      ]
    },
    {
      "cell_type": "code",
      "metadata": {
        "id": "5x9FPARGG3qN"
      },
      "source": [
        "y_pred = clf.predict(X_test)"
      ],
      "execution_count": null,
      "outputs": []
    },
    {
      "cell_type": "code",
      "metadata": {
        "id": "uudHJTgWHOso"
      },
      "source": [
        "from sklearn.metrics import accuracy_score\n",
        "# accuracy_score(y_test, y_pred)"
      ],
      "execution_count": null,
      "outputs": []
    },
    {
      "cell_type": "code",
      "metadata": {
        "colab": {
          "base_uri": "https://localhost:8080/"
        },
        "id": "T3IRB8Z6NmHV",
        "outputId": "dc8e3dec-ab2d-4d11-ac63-882abbb62cd8"
      },
      "source": [
        "clf.score(X_test, y_test)"
      ],
      "execution_count": null,
      "outputs": [
        {
          "output_type": "execute_result",
          "data": {
            "text/plain": [
              "0.5756319784090138"
            ]
          },
          "metadata": {
            "tags": []
          },
          "execution_count": 37
        }
      ]
    },
    {
      "cell_type": "code",
      "metadata": {
        "id": "m27wZ7iBIAc4"
      },
      "source": [
        "param_dict = {\n",
        "    'criterion':['mse', 'gini', 'entropy'],\n",
        "    'max_depth':[1,2,3,4,5,6,None]\n",
        "}"
      ],
      "execution_count": null,
      "outputs": []
    },
    {
      "cell_type": "code",
      "metadata": {
        "id": "Y_a6o6whHdLo"
      },
      "source": [
        "grid = GridSearchCV(clf, param_grid= param_dict, cv=10, n_jobs=-1)"
      ],
      "execution_count": null,
      "outputs": []
    },
    {
      "cell_type": "code",
      "metadata": {
        "colab": {
          "base_uri": "https://localhost:8080/"
        },
        "id": "KfHJfwKsKOy2",
        "outputId": "7f0cd0bc-5758-44da-dd6f-4967c88fce99"
      },
      "source": [
        "grid.fit(X_train, y_train)"
      ],
      "execution_count": null,
      "outputs": [
        {
          "output_type": "execute_result",
          "data": {
            "text/plain": [
              "GridSearchCV(cv=10, error_score=nan,\n",
              "             estimator=DecisionTreeRegressor(ccp_alpha=0.0, criterion='mse',\n",
              "                                             max_depth=None, max_features=None,\n",
              "                                             max_leaf_nodes=None,\n",
              "                                             min_impurity_decrease=0.0,\n",
              "                                             min_impurity_split=None,\n",
              "                                             min_samples_leaf=1,\n",
              "                                             min_samples_split=2,\n",
              "                                             min_weight_fraction_leaf=0.0,\n",
              "                                             presort='deprecated',\n",
              "                                             random_state=None,\n",
              "                                             splitter='best'),\n",
              "             iid='deprecated', n_jobs=-1,\n",
              "             param_grid={'criterion': ['mse', 'gini', 'entropy'],\n",
              "                         'max_depth': [1, 2, 3, 4, 5, 6, None]},\n",
              "             pre_dispatch='2*n_jobs', refit=True, return_train_score=False,\n",
              "             scoring=None, verbose=0)"
            ]
          },
          "metadata": {
            "tags": []
          },
          "execution_count": 40
        }
      ]
    },
    {
      "cell_type": "code",
      "metadata": {
        "colab": {
          "base_uri": "https://localhost:8080/"
        },
        "id": "FY94YQv3KbyG",
        "outputId": "2870d5ca-ab48-4265-f164-31490177ba44"
      },
      "source": [
        "grid.best_estimator_"
      ],
      "execution_count": null,
      "outputs": [
        {
          "output_type": "execute_result",
          "data": {
            "text/plain": [
              "DecisionTreeRegressor(ccp_alpha=0.0, criterion='mse', max_depth=5,\n",
              "                      max_features=None, max_leaf_nodes=None,\n",
              "                      min_impurity_decrease=0.0, min_impurity_split=None,\n",
              "                      min_samples_leaf=1, min_samples_split=2,\n",
              "                      min_weight_fraction_leaf=0.0, presort='deprecated',\n",
              "                      random_state=None, splitter='best')"
            ]
          },
          "metadata": {
            "tags": []
          },
          "execution_count": 41
        }
      ]
    },
    {
      "cell_type": "code",
      "metadata": {
        "colab": {
          "base_uri": "https://localhost:8080/"
        },
        "id": "CgJTcbHHKiSN",
        "outputId": "c73d2a89-8d5e-415f-91ad-ecc45c3cec34"
      },
      "source": [
        "grid.best_score_"
      ],
      "execution_count": null,
      "outputs": [
        {
          "output_type": "execute_result",
          "data": {
            "text/plain": [
              "0.672178368336801"
            ]
          },
          "metadata": {
            "tags": []
          },
          "execution_count": 42
        }
      ]
    },
    {
      "cell_type": "markdown",
      "metadata": {
        "id": "Kpbw8xkbZxpX"
      },
      "source": [
        "## 2.3 Random Forest"
      ]
    },
    {
      "cell_type": "code",
      "metadata": {
        "id": "kXaqdNNkXhBe"
      },
      "source": [
        "# Hyperparameter values to feed to the RandomizedSearchCV\n",
        "param_grid = {'max_features': ['auto', 'sqrt'], # Number of features to consider at every split\n",
        "               'max_depth': np.arange(5, 41, 5), # Maximum number of levels in tree\n",
        "               'min_samples_split': [5, 10, 20, 40], # Minimum number of samples required to split a node\n",
        "               'min_samples_leaf': [2, 6, 12, 24], # Minimum number of samples required at each leaf node\n",
        "               }"
      ],
      "execution_count": null,
      "outputs": []
    },
    {
      "cell_type": "code",
      "metadata": {
        "id": "u7l9AgJbYE1i"
      },
      "source": [
        "from sklearn.ensemble import RandomForestRegressor\n",
        "\n",
        "# Instantiate a RandomizedSearchCV on a RandomForestRegressor model with 100 iterations\n",
        "rfor_reg = RandomizedSearchCV(RandomForestRegressor(), param_distributions = param_grid, n_iter = 100, verbose = 2, n_jobs = -1)\n",
        "\n",
        "rfor_reg.fit(X_train, y_train)"
      ],
      "execution_count": null,
      "outputs": []
    },
    {
      "cell_type": "code",
      "metadata": {
        "id": "wC3vlBwQYIqn"
      },
      "source": [
        "# Check the best parameters found by RandomizedSearchCV\n",
        "rfor_reg.best_params_"
      ],
      "execution_count": null,
      "outputs": []
    },
    {
      "cell_type": "code",
      "metadata": {
        "id": "VWZhoWezYOWv"
      },
      "source": [
        "# Check the cross-validation evaluation metric of the best estimator\n",
        "print(f'R^2 Validation: {rfor_reg.best_score_}')"
      ],
      "execution_count": null,
      "outputs": []
    },
    {
      "cell_type": "code",
      "metadata": {
        "id": "BV5R0D1jYRD5"
      },
      "source": [
        "# Check the features which are considered as most important in making predictions\n",
        "sorted(dict(zip(X_train.columns, rfor_reg.best_estimator_.feature_importances_)).items(), key=lambda x: x[1], reverse=True)"
      ],
      "execution_count": null,
      "outputs": []
    },
    {
      "cell_type": "code",
      "metadata": {
        "id": "G52mXzs6YVW6"
      },
      "source": [
        "# Compute predictions from the test set\n",
        "y_pred = rfor_reg.predict(X_test)"
      ],
      "execution_count": null,
      "outputs": []
    },
    {
      "cell_type": "code",
      "metadata": {
        "id": "BUj5xSXkYfeM"
      },
      "source": [
        "# Coefficient of determination (R^2) on the test set\n",
        "print(f'R^2 Test: {rfor_reg.score(X_test, y_test)}')"
      ],
      "execution_count": null,
      "outputs": []
    },
    {
      "cell_type": "code",
      "metadata": {
        "id": "T9wnK0j4YkPm"
      },
      "source": [
        "print(f'RMSE Test: {np.sqrt(mean_squared_error(y_test, y_pred))}')"
      ],
      "execution_count": null,
      "outputs": []
    },
    {
      "cell_type": "code",
      "metadata": {
        "id": "H9iQTOTlYn34"
      },
      "source": [
        "# Visualize the predictions (in blue) against the actual values (in red)\n",
        "ax1 = sns.distplot(y_test, hist=False, color='r', label='actual')\n",
        "sns_plot = sns.distplot(y_pred, hist=False, color='b',label='prediction', ax=ax1)\n",
        "\n",
        "# Save the figure to a file\n",
        "sns_plot.get_figure().savefig(\"rfor_reg.png\")"
      ],
      "execution_count": null,
      "outputs": []
    },
    {
      "cell_type": "code",
      "metadata": {
        "id": "_CjWa1eCY0gh"
      },
      "source": [
        "# Save the model to disk\n",
        "dump(rfor_reg.best_estimator_, 'rfor_reg.pkl')"
      ],
      "execution_count": null,
      "outputs": []
    },
    {
      "cell_type": "markdown",
      "metadata": {
        "id": "1P8O5hhAYu0b"
      },
      "source": [
        "## 2.4 Gradient Boosting"
      ]
    },
    {
      "cell_type": "code",
      "metadata": {
        "id": "_fm_wMUuY9-I",
        "colab": {
          "base_uri": "https://localhost:8080/",
          "height": 231
        },
        "outputId": "a99e124c-605b-4fb6-d7ae-9649c23c322f"
      },
      "source": [
        "# Hyperparameter values to feed to the RandomizedSearchCV\n",
        "param_grid = {\"learning_rate\"   : [0.01, 0.1, 0.3],\n",
        "             \"subsample\"        : [0.5, 1.0],\n",
        "             'max_depth'        : np.arange(5, 41, 5),\n",
        "             \"max_features\"     : ['auto', 'sqrt'],\n",
        "             \"min_samples_split\": [5, 10, 20, 40],\n",
        "             \"min_samples_leaf\" : [2, 6, 12, 24]\n",
        "             }"
      ],
      "execution_count": null,
      "outputs": [
        {
          "output_type": "error",
          "ename": "NameError",
          "evalue": "ignored",
          "traceback": [
            "\u001b[0;31m---------------------------------------------------------------------------\u001b[0m",
            "\u001b[0;31mNameError\u001b[0m                                 Traceback (most recent call last)",
            "\u001b[0;32m<ipython-input-1-792d23f600b9>\u001b[0m in \u001b[0;36m<module>\u001b[0;34m()\u001b[0m\n\u001b[1;32m      2\u001b[0m param_grid = {\"learning_rate\"   : [0.01, 0.1, 0.3],\n\u001b[1;32m      3\u001b[0m              \u001b[0;34m\"subsample\"\u001b[0m        \u001b[0;34m:\u001b[0m \u001b[0;34m[\u001b[0m\u001b[0;36m0.5\u001b[0m\u001b[0;34m,\u001b[0m \u001b[0;36m1.0\u001b[0m\u001b[0;34m]\u001b[0m\u001b[0;34m,\u001b[0m\u001b[0;34m\u001b[0m\u001b[0;34m\u001b[0m\u001b[0m\n\u001b[0;32m----> 4\u001b[0;31m              \u001b[0;34m'max_depth'\u001b[0m        \u001b[0;34m:\u001b[0m \u001b[0mnp\u001b[0m\u001b[0;34m.\u001b[0m\u001b[0marange\u001b[0m\u001b[0;34m(\u001b[0m\u001b[0;36m5\u001b[0m\u001b[0;34m,\u001b[0m \u001b[0;36m41\u001b[0m\u001b[0;34m,\u001b[0m \u001b[0;36m5\u001b[0m\u001b[0;34m)\u001b[0m\u001b[0;34m,\u001b[0m\u001b[0;34m\u001b[0m\u001b[0;34m\u001b[0m\u001b[0m\n\u001b[0m\u001b[1;32m      5\u001b[0m              \u001b[0;34m\"max_features\"\u001b[0m     \u001b[0;34m:\u001b[0m \u001b[0;34m[\u001b[0m\u001b[0;34m'auto'\u001b[0m\u001b[0;34m,\u001b[0m \u001b[0;34m'sqrt'\u001b[0m\u001b[0;34m]\u001b[0m\u001b[0;34m,\u001b[0m\u001b[0;34m\u001b[0m\u001b[0;34m\u001b[0m\u001b[0m\n\u001b[1;32m      6\u001b[0m              \u001b[0;34m\"min_samples_split\"\u001b[0m\u001b[0;34m:\u001b[0m \u001b[0;34m[\u001b[0m\u001b[0;36m5\u001b[0m\u001b[0;34m,\u001b[0m \u001b[0;36m10\u001b[0m\u001b[0;34m,\u001b[0m \u001b[0;36m20\u001b[0m\u001b[0;34m,\u001b[0m \u001b[0;36m40\u001b[0m\u001b[0;34m]\u001b[0m\u001b[0;34m,\u001b[0m\u001b[0;34m\u001b[0m\u001b[0;34m\u001b[0m\u001b[0m\n",
            "\u001b[0;31mNameError\u001b[0m: name 'np' is not defined"
          ]
        }
      ]
    },
    {
      "cell_type": "code",
      "metadata": {
        "id": "LsZFpGoRZCjd"
      },
      "source": [
        "from sklearn.ensemble import GradientBoostingRegressor\n",
        "\n",
        "# Instantiate a RandomizedSearchCV on a GradientBoostingRegressor model with 100 iterations\n",
        "grad_reg = RandomizedSearchCV(GradientBoostingRegressor(), param_distributions = param_grid, n_iter = 100, verbose = 2, n_jobs = -1)\n",
        "\n",
        "grad_reg.fit(X_train, y_train)"
      ],
      "execution_count": null,
      "outputs": []
    },
    {
      "cell_type": "code",
      "metadata": {
        "id": "13voaiKUZKhF"
      },
      "source": [
        "# Check the best parameters found by RandomizedSearchCV\n",
        "grad_reg.best_params_"
      ],
      "execution_count": null,
      "outputs": []
    },
    {
      "cell_type": "code",
      "metadata": {
        "id": "yp32PcXyZLVZ"
      },
      "source": [
        "# Check the cross-validation evaluation metric of the best estimator\n",
        "print(f'R^2 Validation: {grad_reg.best_score_}')"
      ],
      "execution_count": null,
      "outputs": []
    },
    {
      "cell_type": "code",
      "metadata": {
        "id": "mT2fqVFrZbao"
      },
      "source": [
        "# Check the features which are considered as most important in making predictions\n",
        "sorted(dict(zip(X_train.columns, grad_reg.best_estimator_.feature_importances_)).items(), key=lambda x: x[1], reverse=True)"
      ],
      "execution_count": null,
      "outputs": []
    },
    {
      "cell_type": "code",
      "metadata": {
        "id": "XkX8rRmBZiy0"
      },
      "source": [
        "# Compute predictions from the test set\n",
        "y_pred = grad_reg.predict(X_test)"
      ],
      "execution_count": null,
      "outputs": []
    },
    {
      "cell_type": "code",
      "metadata": {
        "id": "lQosAIyqZoFd"
      },
      "source": [
        "# Coefficient of determination (R^2) on the test set\n",
        "print(f'R^2 Test: {grad_reg.score(X_test, y_test)}')"
      ],
      "execution_count": null,
      "outputs": []
    },
    {
      "cell_type": "code",
      "metadata": {
        "id": "ggJWbwSpZrQK"
      },
      "source": [
        "print(f'RMSE Test: {np.sqrt(mean_squared_error(y_test, y_pred))}')"
      ],
      "execution_count": null,
      "outputs": []
    },
    {
      "cell_type": "code",
      "metadata": {
        "id": "Rrx-5ipQZuuP"
      },
      "source": [
        "# Visualize the predictions (in blue) against the actual values (in red)\n",
        "ax1 = sns.distplot(y_test, hist=False, color='r', label='actual')\n",
        "sns_plot = sns.distplot(y_pred, hist=False, color='b',label='prediction', ax=ax1)\n",
        "\n",
        "# Save the figure to a file\n",
        "sns_plot.get_figure().savefig(\"grad_reg.png\")"
      ],
      "execution_count": null,
      "outputs": []
    },
    {
      "cell_type": "code",
      "metadata": {
        "id": "1kY20W9SZyXW"
      },
      "source": [
        "# Save the model to disk\n",
        "dump(grad_reg.best_estimator_, 'grad_reg.pkl')"
      ],
      "execution_count": null,
      "outputs": []
    },
    {
      "cell_type": "markdown",
      "metadata": {
        "id": "20hNVD26Z2lX"
      },
      "source": [
        "### 2.5: XGBoost"
      ]
    },
    {
      "cell_type": "code",
      "metadata": {
        "id": "E4nyJpl0aBww"
      },
      "source": [
        "# Hyperparameter values to feed to the RandomizedSearchCV\n",
        "param_grid = {\"learning_rate\"   : [0.01, 0.1, 0.3] ,\n",
        "             'max_depth'        : np.arange(5, 41, 5),\n",
        "             \"min_child_weight\" : [1, 3, 5, 7],\n",
        "             \"gamma\"            : [0.0, 0.1, 0.2, 0.3, 0.4],\n",
        "             \"colsample_bytree\" : [0.3, 0.4, 0.5, 0.7]\n",
        "             }"
      ],
      "execution_count": null,
      "outputs": []
    },
    {
      "cell_type": "code",
      "metadata": {
        "id": "mAxYYD82Z7Fg"
      },
      "source": [
        "from xgboost import XGBRegressor\n",
        "\n",
        "# Instantiate a RandomizedSearchCV on an XGBRegressor model with 100 iterations\n",
        "xgb_reg = RandomizedSearchCV(XGBRegressor(), param_distributions = param_grid, n_iter = 100, verbose = 2, n_jobs = -1)\n",
        "\n",
        "xgb_reg.fit(X_train, y_train)"
      ],
      "execution_count": null,
      "outputs": []
    },
    {
      "cell_type": "code",
      "metadata": {
        "id": "r8zTLAUFaK27"
      },
      "source": [
        "# Best parameters\n",
        "xgb_reg.best_params_"
      ],
      "execution_count": null,
      "outputs": []
    },
    {
      "cell_type": "code",
      "metadata": {
        "id": "6VeVzGkPaPm2"
      },
      "source": [
        "# Check the cross-validation evaluation metric of the best estimator\n",
        "print(f'R^2 Validation: {xgb_reg.best_score_}')"
      ],
      "execution_count": null,
      "outputs": []
    },
    {
      "cell_type": "code",
      "metadata": {
        "id": "--FYhJ5paU0L"
      },
      "source": [
        "# Check the number of times a feature was used to split the data across all trees\n",
        "sorted(xgb_reg.best_estimator_.get_booster().get_score(importance_type='weight').items(), key=lambda x: x[1], reverse=True)"
      ],
      "execution_count": null,
      "outputs": []
    },
    {
      "cell_type": "code",
      "metadata": {
        "id": "i0c7amXyaZrq"
      },
      "source": [
        "# Plot the same data on a graph\n",
        "from xgboost import plot_importance\n",
        "from matplotlib import pyplot as plt\n",
        "\n",
        "fig, ax = plt.subplots(figsize=(8, 7))\n",
        "plot_importance(xgb_reg.best_estimator_, ax=ax)"
      ],
      "execution_count": null,
      "outputs": []
    },
    {
      "cell_type": "code",
      "metadata": {
        "id": "7OBrFF1Daf3-"
      },
      "source": [
        "# Compute predictions from the test set\n",
        "y_pred = xgb_reg.predict(X_test)"
      ],
      "execution_count": null,
      "outputs": []
    },
    {
      "cell_type": "code",
      "metadata": {
        "id": "vMLV7vqEalC_"
      },
      "source": [
        "# Coefficient of determination (R^2) on the test set\n",
        "print(f'R^2 Test: {xgb_reg.score(X_test, y_test)}')"
      ],
      "execution_count": null,
      "outputs": []
    },
    {
      "cell_type": "code",
      "metadata": {
        "id": "5S0relLWaoLx"
      },
      "source": [
        "print(f'RMSE Test: {np.sqrt(mean_squared_error(y_test, y_pred))}')"
      ],
      "execution_count": null,
      "outputs": []
    },
    {
      "cell_type": "code",
      "metadata": {
        "id": "gIjwcJV5atac"
      },
      "source": [
        "# Visualize the predictions (in blue) against the actual values (in red)\n",
        "ax1 = sns.distplot(y_test, hist=False, color='r', label='actual')\n",
        "sns_plot = sns.distplot(y_pred, hist=False, color='b',label='prediction', ax=ax1)\n",
        "\n",
        "# Save the figure to a file\n",
        "sns_plot.get_figure().savefig(\"xgb_reg.png\")"
      ],
      "execution_count": null,
      "outputs": []
    },
    {
      "cell_type": "code",
      "metadata": {
        "id": "0l9S-88cavOR"
      },
      "source": [
        "# Save the model to disk\n",
        "dump(xgb_reg.best_estimator_, 'xgb_reg.pkl')"
      ],
      "execution_count": null,
      "outputs": []
    }
  ]
}